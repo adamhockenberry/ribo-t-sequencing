{
 "cells": [
  {
   "cell_type": "code",
   "execution_count": 1,
   "metadata": {
    "collapsed": true
   },
   "outputs": [],
   "source": [
    "%matplotlib inline"
   ]
  },
  {
   "cell_type": "code",
   "execution_count": 2,
   "metadata": {
    "collapsed": false
   },
   "outputs": [],
   "source": [
    "from Bio import SeqIO"
   ]
  },
  {
   "cell_type": "code",
   "execution_count": 19,
   "metadata": {
    "collapsed": true
   },
   "outputs": [],
   "source": [
    "genome = list(SeqIO.parse('../Genome_files/U00096.3.gb', 'genbank'))\n",
    "my_seq_dict = {}\n",
    "genome = genome[0]\n",
    "for feature in genome.features:\n",
    "    if feature.type == 'CDS':\n",
    "        name = feature.qualifiers['locus_tag'][0] + '_' + feature.qualifiers['gene'][0]\n",
    "        sequence = feature.extract(genome)\n",
    "        my_seq_dict[name] = str(sequence.seq)"
   ]
  },
  {
   "cell_type": "code",
   "execution_count": 3,
   "metadata": {
    "collapsed": false
   },
   "outputs": [],
   "source": [
    "mankin_genome = list(SeqIO.parse('../kolya_genome_files/U00096_3.fasta', 'fasta'))\n",
    "assert len(mankin_genome) == 1\n",
    "mankin_genome = mankin_genome[0]\n",
    "######\n",
    "annotation_lines= []\n",
    "with open('../kolya_genome_files/U00096_3_annotation.txt', 'r', encoding=\"latin-1\") as infile:\n",
    "    for line in infile:\n",
    "        annotation_lines.append(line)\n",
    "######\n",
    "mankin_seq_dict = {}\n",
    "for line in annotation_lines:\n",
    "    split_line = line.split('\\t')\n",
    "    name = split_line[0].replace(';', '_')\n",
    "    if name in mankin_seq_dict.keys():\n",
    "        print('duplicate:{}'.format(name))\n",
    "    if len(split_line[3]) != 1:\n",
    "        split_line[3] = split_line[3].strip()\n",
    "    if split_line[3] == '+':\n",
    "        seq = str(mankin_genome[int(split_line[1])-1:int(split_line[2])].seq)\n",
    "    elif split_line[3] == '-':\n",
    "        seq = str(mankin_genome[int(split_line[2])-1:int(split_line[1])].seq.reverse_complement())\n",
    "    else:\n",
    "        print('unknown strand:{}'.format(split_line))\n",
    "        continue\n",
    "    if seq != '':\n",
    "        if seq not in list(mankin_seq_dict.values()):\n",
    "            mankin_seq_dict[name] = seq"
   ]
  },
  {
   "cell_type": "code",
   "execution_count": 7,
   "metadata": {
    "collapsed": false
   },
   "outputs": [],
   "source": [
    "records_to_remove = list(SeqIO.parse('../kolya_genome_files/U00096.frn', 'fasta'))\n",
    "loci_to_remove = []\n",
    "for i in records_to_remove:\n",
    "    loci_to_remove.append(i.description.split('locus_tag=')[-1].rstrip(']'))"
   ]
  },
  {
   "cell_type": "code",
   "execution_count": 8,
   "metadata": {
    "collapsed": false
   },
   "outputs": [
    {
     "data": {
      "text/plain": [
       "['b4413',\n",
       " 'b4577',\n",
       " 'b4414',\n",
       " 'b0201',\n",
       " 'b0202',\n",
       " 'b0203',\n",
       " 'b0204',\n",
       " 'b0205',\n",
       " 'b0206',\n",
       " 'b0216',\n",
       " 'b0244',\n",
       " 'b4690',\n",
       " 'b4629',\n",
       " 'b0455',\n",
       " 'b4585',\n",
       " 'b0536',\n",
       " 'b4635',\n",
       " 'b4700',\n",
       " 'b0664',\n",
       " 'b0665',\n",
       " 'b0666',\n",
       " 'b0668',\n",
       " 'b0670',\n",
       " 'b0672',\n",
       " 'b0673',\n",
       " 'b0743',\n",
       " 'b0744',\n",
       " 'b0745',\n",
       " 'b0746',\n",
       " 'b0747',\n",
       " 'b0748',\n",
       " 'b0749',\n",
       " 'b4417',\n",
       " 'b0883',\n",
       " 'b0971',\n",
       " 'b1032',\n",
       " 'b4418',\n",
       " 'b4420',\n",
       " 'b4422',\n",
       " 'b4424',\n",
       " 'b4425',\n",
       " 'b1230',\n",
       " 'b1231',\n",
       " 'b4426',\n",
       " 'b4699',\n",
       " 'b4427',\n",
       " 'b4597',\n",
       " 'b4429',\n",
       " 'b4698',\n",
       " 'b1574',\n",
       " 'b1665',\n",
       " 'b1666',\n",
       " 'b4430',\n",
       " 'b4431',\n",
       " 'b4432',\n",
       " 'b4433',\n",
       " 'b1909',\n",
       " 'b1910',\n",
       " 'b1911',\n",
       " 'b1954',\n",
       " 'b4603',\n",
       " 'b1975',\n",
       " 'b1977',\n",
       " 'b1984',\n",
       " 'b1986',\n",
       " 'b1989',\n",
       " 'b4435',\n",
       " 'b4436',\n",
       " 'b4437',\n",
       " 'b4438',\n",
       " 'b2189',\n",
       " 'b4439',\n",
       " 'b2348',\n",
       " 'b4643',\n",
       " 'b2396',\n",
       " 'b2397',\n",
       " 'b2401',\n",
       " 'b2402',\n",
       " 'b2403',\n",
       " 'b2404',\n",
       " 'b4440',\n",
       " 'b4441',\n",
       " 'b4608',\n",
       " 'b2588',\n",
       " 'b2589',\n",
       " 'b2590',\n",
       " 'b2591',\n",
       " 'b4609',\n",
       " 'b2621',\n",
       " 'b4645',\n",
       " 'b2652',\n",
       " 'b4442',\n",
       " 'b2691',\n",
       " 'b2692',\n",
       " 'b2693',\n",
       " 'b2694',\n",
       " 'b2695',\n",
       " 'b4701',\n",
       " 'b4408',\n",
       " 'b4443',\n",
       " 'b2814',\n",
       " 'b2815',\n",
       " 'b2816',\n",
       " 'b4444',\n",
       " 'b4445',\n",
       " 'b2864',\n",
       " 'b2911',\n",
       " 'b4446',\n",
       " 'b2967',\n",
       " 'b4447',\n",
       " 'b4611',\n",
       " 'b3069',\n",
       " 'b3123',\n",
       " 'b4449',\n",
       " 'b3171',\n",
       " 'b3174',\n",
       " 'b4450',\n",
       " 'b3272',\n",
       " 'b3273',\n",
       " 'b3274',\n",
       " 'b3275',\n",
       " 'b3276',\n",
       " 'b3277',\n",
       " 'b3278',\n",
       " 'b4451',\n",
       " 'b4712',\n",
       " 'b4713',\n",
       " 'b4704',\n",
       " 'b4452',\n",
       " 'b4454',\n",
       " 'b3545',\n",
       " 'b4614',\n",
       " 'b3658',\n",
       " 'b4616',\n",
       " 'b3756',\n",
       " 'b3757',\n",
       " 'b3758',\n",
       " 'b3759',\n",
       " 'b3760',\n",
       " 'b3761',\n",
       " 'b3796',\n",
       " 'b3797',\n",
       " 'b3798',\n",
       " 'b3799',\n",
       " 'b4456',\n",
       " 'b4707',\n",
       " 'b3851',\n",
       " 'b3852',\n",
       " 'b3853',\n",
       " 'b3854',\n",
       " 'b3855',\n",
       " 'b3864',\n",
       " 'b4457',\n",
       " 'b4458',\n",
       " 'b3968',\n",
       " 'b3969',\n",
       " 'b3970',\n",
       " 'b3971',\n",
       " 'b3976',\n",
       " 'b3977',\n",
       " 'b3978',\n",
       " 'b3979',\n",
       " 'b4691',\n",
       " 'b4007',\n",
       " 'b4008',\n",
       " 'b4009',\n",
       " 'b4010',\n",
       " 'b4459',\n",
       " 'b4134',\n",
       " 'b4163',\n",
       " 'b4164',\n",
       " 'b4165',\n",
       " 'b4270',\n",
       " 'b4624',\n",
       " 'b4625',\n",
       " 'b4368',\n",
       " 'b4369',\n",
       " 'b4370']"
      ]
     },
     "execution_count": 8,
     "metadata": {},
     "output_type": "execute_result"
    }
   ],
   "source": [
    "loci_to_remove"
   ]
  },
  {
   "cell_type": "code",
   "execution_count": 10,
   "metadata": {
    "collapsed": false
   },
   "outputs": [
    {
     "data": {
      "text/plain": [
       "-1"
      ]
     },
     "execution_count": 10,
     "metadata": {},
     "output_type": "execute_result"
    }
   ],
   "source": [
    "'bcd'.find('df')"
   ]
  },
  {
   "cell_type": "code",
   "execution_count": null,
   "metadata": {
    "collapsed": true
   },
   "outputs": [],
   "source": []
  }
 ],
 "metadata": {
  "kernelspec": {
   "display_name": "Python 3",
   "language": "python",
   "name": "python3"
  },
  "language_info": {
   "codemirror_mode": {
    "name": "ipython",
    "version": 3
   },
   "file_extension": ".py",
   "mimetype": "text/x-python",
   "name": "python",
   "nbconvert_exporter": "python",
   "pygments_lexer": "ipython3",
   "version": "3.4.5"
  },
  "toc": {
   "colors": {
    "hover_highlight": "#DAA520",
    "navigate_num": "#000000",
    "navigate_text": "#333333",
    "running_highlight": "#FF0000",
    "selected_highlight": "#FFD700",
    "sidebar_border": "#EEEEEE",
    "wrapper_background": "#FFFFFF"
   },
   "moveMenuLeft": true,
   "nav_menu": {
    "height": "12px",
    "width": "252px"
   },
   "navigate_menu": true,
   "number_sections": true,
   "sideBar": true,
   "threshold": 4,
   "toc_cell": false,
   "toc_section_display": "block",
   "toc_window_display": false,
   "widenNotebook": false
  }
 },
 "nbformat": 4,
 "nbformat_minor": 2
}
