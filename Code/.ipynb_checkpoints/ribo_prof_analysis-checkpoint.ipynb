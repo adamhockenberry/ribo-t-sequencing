{
 "cells": [
  {
   "cell_type": "code",
   "execution_count": 1,
   "metadata": {
    "collapsed": false
   },
   "outputs": [],
   "source": [
    "%matplotlib inline"
   ]
  },
  {
   "cell_type": "markdown",
   "metadata": {},
   "source": [
    "# Common imports"
   ]
  },
  {
   "cell_type": "code",
   "execution_count": 2,
   "metadata": {
    "collapsed": false
   },
   "outputs": [],
   "source": [
    "from Bio import SeqIO\n",
    "from matplotlib import pyplot as plt\n",
    "import numpy as np\n",
    "import statsmodels.formula.api as smf\n",
    "import pandas as pd\n",
    "import statsmodels.stats\n",
    "\n",
    "from scipy import stats\n",
    "from collections import Counter\n",
    "\n",
    "\n",
    "import datetime\n",
    "year = datetime.date.today().year\n",
    "month = datetime.date.today().month\n",
    "import os\n",
    "results_dir = '../Results/{}_{:02}'.format(year, month)\n",
    "if not os.path.exists(results_dir):\n",
    "    os.makedirs(results_dir)"
   ]
  },
  {
   "cell_type": "markdown",
   "metadata": {},
   "source": [
    "# Parameters to make pretty-ish plots"
   ]
  },
  {
   "cell_type": "code",
   "execution_count": 3,
   "metadata": {
    "collapsed": true
   },
   "outputs": [],
   "source": [
    "import matplotlib\n",
    "matplotlib.rcParams['xtick.labelsize'] = 10\n",
    "matplotlib.rcParams['ytick.labelsize'] = 10\n",
    "matplotlib.rcParams['axes.labelsize'] = 10\n",
    "matplotlib.rcParams['axes.titlesize'] = 10\n",
    "\n",
    "matplotlib.rcParams['axes.grid'] = True\n",
    "matplotlib.rcParams['grid.color'] = '0.5'\n",
    "matplotlib.rcParams['grid.linewidth'] = '0.5'\n",
    "\n",
    "matplotlib.rcParams['axes.edgecolor'] = '0.25'\n",
    "matplotlib.rcParams['xtick.color'] = '0'\n",
    "matplotlib.rcParams['ytick.color'] = '0'\n",
    "\n",
    "matplotlib.rcParams['xtick.major.width'] = 1\n",
    "matplotlib.rcParams['ytick.major.width'] = 1\n",
    "matplotlib.rcParams['ytick.major.size'] = 5\n",
    "matplotlib.rcParams['xtick.major.size'] = 5\n",
    "matplotlib.rcParams['axes.spines.right'] = True\n",
    "matplotlib.rcParams['axes.spines.left'] = True\n",
    "matplotlib.rcParams['axes.spines.top'] = True\n",
    "matplotlib.rcParams['axes.spines.bottom'] = True\n",
    "\n",
    "matplotlib.rcParams['font.family'] = 'sans-serif'\n",
    "matplotlib.rcParams['font.sans-serif'] = 'Helvetica'\n",
    "matplotlib.rcParams['font.weight']='normal'\n",
    "matplotlib.rcParams['axes.axisbelow'] = True"
   ]
  },
  {
   "cell_type": "markdown",
   "metadata": {},
   "source": [
    "# Some mapping parameters\n",
    "\n",
    "The mapping offset came from inspecting the "
   ]
  },
  {
   "cell_type": "code",
   "execution_count": null,
   "metadata": {
    "collapsed": true
   },
   "outputs": [],
   "source": [
    "mapping_offset = -9\n",
    "utr_length_to_include = 50"
   ]
  },
  {
   "cell_type": "markdown",
   "metadata": {},
   "source": [
    "# Read in the genome sequence data"
   ]
  },
  {
   "cell_type": "code",
   "execution_count": null,
   "metadata": {
    "collapsed": true
   },
   "outputs": [],
   "source": [
    "genome_file = '../Genome_files/U00096.3.fasta'\n",
    "genome_seq = list(SeqIO.parse(genome_file, 'fasta'))[0]\n",
    "organism = 'Escherichia'"
   ]
  },
  {
   "cell_type": "code",
   "execution_count": null,
   "metadata": {
    "collapsed": false
   },
   "outputs": [],
   "source": [
    "utr_sequence_dict = {}\n",
    "full_sequence_dict = {}\n",
    "strand_dict = {}\n",
    "location_dict = {}\n",
    "genbank_seq = list(SeqIO.parse('../Genome_files/U00096.3.gb', 'genbank'))[0]\n",
    "for feature in genbank_seq.features:\n",
    "    if feature.type != 'CDS':\n",
    "        continue\n",
    "    elif 'pseudo' in feature.qualifiers:\n",
    "        continue\n",
    "    name = feature.qualifiers['locus_tag'][0] + '_' + feature.qualifiers['gene'][0]\n",
    "    start = feature.location.start\n",
    "    end = feature.location.end\n",
    "    ###Sequence for positive strand genes\n",
    "    if feature.strand == 1:\n",
    "        seq = str(genbank_seq.seq[start-utr_length_to_include:end+utr_length_to_include])\n",
    "    ###Sequence for negative strand genes needs to be reverse complemented\n",
    "    elif feature.strand == -1:\n",
    "        seq = str(genbank_seq.seq[start-utr_length_to_include:end+utr_length_to_include].reverse_complement())\n",
    "    \n",
    "    full_sequence_dict[name] = seq\n",
    "    \n",
    "    ###Separately just grab the 5'UTR as its own dictionary because it may be helpful\n",
    "    utr_seq = seq[:utr_length_to_include]\n",
    "    utr_sequence_dict[name] = utr_seq\n",
    "    \n",
    "    ###Store strand and locations\n",
    "    strand_dict[name] = feature.strand\n",
    "    location_dict[name] = (start, end)\n",
    "\n",
    "print(len(utr_sequence_dict.keys()))\n",
    "print(len(full_sequence_dict.keys()))\n",
    "print(len(strand_dict.keys()))\n",
    "print(len(location_dict.keys()))"
   ]
  },
  {
   "cell_type": "markdown",
   "metadata": {},
   "source": [
    "# Read in sample .wig files and load all the mapped read data"
   ]
  },
  {
   "cell_type": "code",
   "execution_count": null,
   "metadata": {
    "collapsed": true
   },
   "outputs": [],
   "source": [
    "sample_files = [('WTrep1_ribo', '../WTrep1.ribo_cigar_fulladjust_f.wig', '../WTrep1.ribo_cigar_fulladjust_r.wig'),\\\n",
    "               ('WTrep2_ribo', '../WTrep2.ribo_cigar_fulladjust_f.wig', '../WTrep2.ribo_cigar_fulladjust_r.wig'),\\\n",
    "               ('RIBOTrep1_ribo', '../RIBOTrep1.ribo_cigar_fulladjust_f.wig', '../RIBOTrep1.ribo_cigar_fulladjust_r.wig'),\\\n",
    "               ('RIBOTrep2_ribo', '../RIBOTrep2.ribo_cigar_fulladjust_f.wig', '../RIBOTrep2.ribo_cigar_fulladjust_r.wig'),\\\n",
    "               ('WTrep1_rna', '../WTrep1.rna_cigar_fulladjust_f.wig', '../WTrep1.rna_cigar_fulladjust_r.wig'),\\\n",
    "               ('WTrep2_rna', '../WTrep2.rna_cigar_fulladjust_f.wig', '../WTrep2.rna_cigar_fulladjust_r.wig'),\\\n",
    "               ('RIBOTrep1_rna', '../RIBOTrep1.rna_cigar_fulladjust_f.wig', '../RIBOTrep1.rna_cigar_fulladjust_r.wig'),\\\n",
    "               ('RIBOTrep2_rna', '../RIBOTrep2.rna_cigar_fulladjust_f.wig', '../RIBOTrep2.rna_cigar_fulladjust_r.wig')]\n",
    "\n",
    "sample_names = [i[0] for i in sample_files]"
   ]
  },
  {
   "cell_type": "code",
   "execution_count": null,
   "metadata": {
    "collapsed": false
   },
   "outputs": [],
   "source": [
    "feature_dict_meta = {}\n",
    "for sample_file in sample_files[:]:\n",
    "    sample_name, fwd, rev = sample_file\n",
    "    print('##### {}'.format(sample_name))\n",
    "    feature_dict_meta[sample_name] = {}\n",
    "    ################################\n",
    "    ###Essentially get the fwd and rev genome coverage\n",
    "    fwd_dicty = {}\n",
    "    rev_dicty = {}\n",
    "    with open(fwd) as infile:\n",
    "        for line in enumerate(infile):\n",
    "            if line[0] > 0:###Ignore the first line of the file\n",
    "                split_line = line[1].split('\\t')\n",
    "                fwd_dicty[int(split_line[0])+mapping_offset] = float(split_line[1])#Note: mapping offset addition\n",
    "    print('Done with fwd')\n",
    "    with open(rev) as infile:\n",
    "        for line in enumerate(infile):\n",
    "            if line[0] > 0:###Ignore the first line of the file\n",
    "                split_line = line[1].split('\\t')\n",
    "                rev_dicty[int(split_line[0])-mapping_offset] = float(split_line[1])#Note: mapping offset subtraction\n",
    "    print('Done with rev')\n",
    "\n",
    "    for gene_name in full_sequence_dict.keys():        \n",
    "        ####Dealing with positive strand genes first\n",
    "        if strand_dict[gene_name] == 1:\n",
    "            ###Get all positions that I care about\n",
    "            pos = (location_dict[gene_name][0]-utr_length_to_include, location_dict[gene_name][1]+utr_length_to_include)\n",
    "            if pos[1] < pos[0]:\n",
    "                print('found a bug')\n",
    "                continue\n",
    "            sequencing = []\n",
    "            ###Append read values and if there are none, append zero\n",
    "            for i in range(pos[0], pos[1]+1):\n",
    "                try:\n",
    "                    sequencing.append(fwd_dicty[i])\n",
    "                except KeyError:\n",
    "                    sequencing.append(0)\n",
    "            feature_dict_meta[sample_name][gene_name] = sequencing\n",
    "        ####And repeat for negative strand genes\n",
    "        elif strand_dict[gene_name] == -1:\n",
    "            pos = (location_dict[gene_name][0]-utr_length_to_include, location_dict[gene_name][1]+utr_length_to_include)\n",
    "            if pos[1] < pos[0]:\n",
    "                print('found a bug')\n",
    "                continue\n",
    "            sequencing = []\n",
    "            for i in range(pos[0], pos[1]+1):\n",
    "                try:\n",
    "                    sequencing.append(rev_dicty[i])\n",
    "                except KeyError:\n",
    "                    sequencing.append(0)\n",
    "            feature_dict_meta[sample_name][gene_name] = sequencing[::-1]###Note the CRUCIAL reverse here"
   ]
  },
  {
   "cell_type": "markdown",
   "metadata": {},
   "source": [
    "# Show total read counts for each sample and store\n",
    "\n",
    "**This is for RPKM normalization. For \"total mapped reads\" I will only consider total reads mapped to CDSs. Note that this may double count some small number of partially overlapping genes but this should be inconsequential**"
   ]
  },
  {
   "cell_type": "code",
   "execution_count": null,
   "metadata": {
    "collapsed": false
   },
   "outputs": [],
   "source": [
    "total_read_dict = {}\n",
    "for i in sample_names:\n",
    "    all_features = []\n",
    "    for j in feature_dict_meta[i].values():\n",
    "        all_features.extend(j[utr_length_to_include:-1*utr_length_to_include])\n",
    "    print(i, np.sum(all_features))\n",
    "    total_read_dict[i] = np.sum(all_features)"
   ]
  },
  {
   "cell_type": "markdown",
   "metadata": {},
   "source": [
    "# Create datatable of RPKM counts for each sample\n",
    "\n",
    "**Defining TE here as: `RPKM_ribo/RPKM_rna`**\n",
    "\n",
    "**Also replacing any/all \"infinite\" values with NaN**"
   ]
  },
  {
   "cell_type": "code",
   "execution_count": null,
   "metadata": {
    "collapsed": false
   },
   "outputs": [],
   "source": [
    "df_master = pd.DataFrame()\n",
    "for sample in sample_names:\n",
    "    print(sample)\n",
    "    for gene in strand_dict.keys():\n",
    "        gene_len = location_dict[gene][1]-location_dict[gene][0]\n",
    "        ###Only calculating averages across the CDS (ignoring UTRs)\n",
    "        reads = feature_dict_meta[sample][gene][utr_length_to_include:-1*utr_length_to_include]\n",
    "        ###This is the formula for making these values RPKM\n",
    "        df_master.set_value(gene, sample, (np.sum(reads)*10e9)/(total_read_dict[sample]*gene_len))\n",
    "\n",
    "###Just dividing each replicate pair (ribo and rna) to create TE measurements        \n",
    "for ribo_sample in sample_names[:4]:\n",
    "    rna_sample = ribo_sample.replace('_ribo', '_rna')\n",
    "    df_master[ribo_sample.replace('_ribo', '_TE')] = df_master[ribo_sample]/df_master[rna_sample]\n",
    "    ###Remove infinite values, or rather call then NaN\n",
    "    df_master[ribo_sample.replace('_ribo', '_TE')].replace(np.inf, np.nan, inplace=True)\n",
    "    df_master[ribo_sample.replace('_ribo', '_TE')].replace(-np.inf, np.nan, inplace=True)"
   ]
  },
  {
   "cell_type": "markdown",
   "metadata": {},
   "source": [
    "**Calculate condition averages for Translation Efficiency and log2 fold changes**"
   ]
  },
  {
   "cell_type": "code",
   "execution_count": null,
   "metadata": {
    "collapsed": false
   },
   "outputs": [],
   "source": [
    "###Calculate averages and fold change\n",
    "df_master['WT_avg_TE'] = df_master[['WTrep1_TE', 'WTrep2_TE']].mean(skipna=False, axis=1)\n",
    "df_master['RIBOT_avg_TE'] = df_master[['RIBOTrep1_TE', 'RIBOTrep2_TE']].mean(skipna=False, axis=1)\n",
    "###Fold changes\n",
    "df_master['log2FC_TE'] = df_master['RIBOT_avg_TE'].apply(np.log2) - df_master['WT_avg_TE'].apply(np.log2)\n",
    "###Remove the infinite values\n",
    "df_master['log2FC_TE'].replace(np.inf, np.nan, inplace=True)\n",
    "df_master['log2FC_TE'].replace(-np.inf, np.nan, inplace=True)\n",
    "df_master.head()"
   ]
  },
  {
   "cell_type": "markdown",
   "metadata": {},
   "source": [
    "**Assessing the statistical significance of differences in TE using independent t-tests for each gene**\n",
    "\n",
    "Which is to say, for each gene I have 2 conditions and 2 samples in each condition so I am simply comparing: \n",
    "\n",
    "    [WT_rep1_TE, WT_rep2_TE] against [RIBOT_rep1_TE, RIBOT_rep2_TE]\n",
    "    \n",
    "And reporting the raw p-value from this (which will subsequently be adjusted for multiple testing)"
   ]
  },
  {
   "cell_type": "code",
   "execution_count": null,
   "metadata": {
    "collapsed": false
   },
   "outputs": [],
   "source": [
    "df_master['raw_ttest_pval'] = np.nan\n",
    "for index in df_master.index:\n",
    "    a = [df_master.loc[index]['WTrep1_TE'], df_master.loc[index]['WTrep2_TE']]\n",
    "    b = [df_master.loc[index]['RIBOTrep1_TE'], df_master.loc[index]['RIBOTrep2_TE']]\n",
    "    tval, pval = stats.ttest_ind(a, b, equal_var=True)\n",
    "    df_master.set_value(index, 'raw_ttest_pval', pval)"
   ]
  },
  {
   "cell_type": "markdown",
   "metadata": {},
   "source": [
    "**About that multiple testing... Here I'm converting each p-value into a FDR corrected p-value using the pretty standard \"Benjamini-Hochberg\" procedure**"
   ]
  },
  {
   "cell_type": "code",
   "execution_count": null,
   "metadata": {
    "collapsed": false
   },
   "outputs": [],
   "source": [
    "tempy = df_master[df_master['raw_ttest_pval'].isnull()==False]\n",
    "sigs, new_pvals, trash1, trash2 = statsmodels.stats.multitest.multipletests(list(tempy['raw_ttest_pval']),\\\n",
    "                                                                        alpha=0.05, method='fdr_bh')\n",
    "tempy['fdr_corrected_pval_bh'] = new_pvals\n",
    "df_master['fdr_corrected_pval_bh'] = np.nan\n",
    "for index in tempy.index:\n",
    "    df_master.set_value(index, 'fdr_corrected_pval_bh', tempy.loc[index]['fdr_corrected_pval_bh'])"
   ]
  },
  {
   "cell_type": "markdown",
   "metadata": {},
   "source": [
    "** A quick glance shows genes sorted for significance **"
   ]
  },
  {
   "cell_type": "code",
   "execution_count": null,
   "metadata": {
    "collapsed": false
   },
   "outputs": [],
   "source": [
    "df_master.sort_values('raw_ttest_pval', inplace=True)"
   ]
  },
  {
   "cell_type": "code",
   "execution_count": null,
   "metadata": {
    "collapsed": false
   },
   "outputs": [],
   "source": [
    "df_master.head(n=20)"
   ]
  },
  {
   "cell_type": "code",
   "execution_count": null,
   "metadata": {
    "collapsed": false
   },
   "outputs": [],
   "source": [
    "df_master.to_csv('{}/TE_master_table.csv'.format(results_dir))"
   ]
  },
  {
   "cell_type": "markdown",
   "metadata": {},
   "source": [
    "# Consistency summary of within condition correlations"
   ]
  },
  {
   "cell_type": "code",
   "execution_count": null,
   "metadata": {
    "collapsed": false
   },
   "outputs": [],
   "source": [
    "compare_x = 'WTrep1_TE'\n",
    "compare_y = 'WTrep2_TE'\n",
    "tempy = df_master[df_master[[compare_x, compare_y]].isnull().any(axis=1)==False]\n",
    "rho, p = stats.spearmanr(tempy[compare_x], tempy[compare_y])\n",
    "n = len(tempy.index)\n",
    "\n",
    "fig, ax = plt.subplots()\n",
    "ax.loglog(tempy[compare_x], tempy[compare_y], c='k', alpha=0.2, marker='o', linestyle='')\n",
    "ax.set_xlabel(compare_x)\n",
    "ax.set_ylabel(compare_y)\n",
    "ax.set_title('Correlation: {:.3f}, (n= {})'.format(rho, n))\n",
    "plt.savefig('{}/WT_TE_comparison.pdf'.format(results_dir), bbox_inches='tight')"
   ]
  },
  {
   "cell_type": "code",
   "execution_count": null,
   "metadata": {
    "collapsed": false
   },
   "outputs": [],
   "source": [
    "compare_x = 'RIBOTrep1_TE'\n",
    "compare_y = 'RIBOTrep2_TE'\n",
    "tempy = df_master[df_master[[compare_x, compare_y]].isnull().any(axis=1)==False]\n",
    "rho, p = stats.spearmanr(tempy[compare_x], tempy[compare_y])\n",
    "n = len(tempy.index)\n",
    "\n",
    "fig, ax = plt.subplots()\n",
    "ax.loglog(tempy[compare_x], tempy[compare_y], c='k', alpha=0.2, marker='o', linestyle='')\n",
    "ax.set_xlabel(compare_x)\n",
    "ax.set_ylabel(compare_y)\n",
    "ax.set_title('Correlation: {:.3f}, (n= {})'.format(rho, n))\n",
    "plt.savefig('{}/RIBOT_TE_comparison.pdf'.format(results_dir), bbox_inches='tight')"
   ]
  },
  {
   "cell_type": "code",
   "execution_count": null,
   "metadata": {
    "collapsed": true
   },
   "outputs": [],
   "source": []
  },
  {
   "cell_type": "markdown",
   "metadata": {},
   "source": [
    "# Comparing average values across conditions"
   ]
  },
  {
   "cell_type": "code",
   "execution_count": null,
   "metadata": {
    "collapsed": false
   },
   "outputs": [],
   "source": [
    "compare_x = 'WT_avg_TE'\n",
    "compare_y = 'RIBOT_avg_TE'\n",
    "tempy = df_master[df_master[[compare_x, compare_y]].isnull().any(axis=1)==False]\n",
    "rho, p = stats.spearmanr(tempy[compare_x], tempy[compare_y])\n",
    "n = len(tempy.index)\n",
    "\n",
    "fig, ax = plt.subplots()\n",
    "ax.loglog(tempy[compare_x], tempy[compare_y], c='k', alpha=0.2, marker='o', linestyle='')\n",
    "ax.set_xlabel(compare_x)\n",
    "ax.set_ylabel(compare_y)\n",
    "ax.set_title('Correlation: {:.3f}, (n= {})'.format(rho, n))\n",
    "plt.savefig('{}/Condition_TE_comparison.pdf'.format(results_dir), bbox_inches='tight')"
   ]
  },
  {
   "cell_type": "code",
   "execution_count": null,
   "metadata": {
    "collapsed": true
   },
   "outputs": [],
   "source": []
  }
 ],
 "metadata": {
  "kernelspec": {
   "display_name": "Python 3",
   "language": "python",
   "name": "python3"
  },
  "language_info": {
   "codemirror_mode": {
    "name": "ipython",
    "version": 3
   },
   "file_extension": ".py",
   "mimetype": "text/x-python",
   "name": "python",
   "nbconvert_exporter": "python",
   "pygments_lexer": "ipython3",
   "version": "3.4.5"
  },
  "toc": {
   "colors": {
    "hover_highlight": "#DAA520",
    "navigate_num": "#000000",
    "navigate_text": "#333333",
    "running_highlight": "#FF0000",
    "selected_highlight": "#FFD700",
    "sidebar_border": "#EEEEEE",
    "wrapper_background": "#FFFFFF"
   },
   "moveMenuLeft": true,
   "nav_menu": {
    "height": "174px",
    "width": "252px"
   },
   "navigate_menu": true,
   "number_sections": true,
   "sideBar": true,
   "threshold": 4,
   "toc_cell": false,
   "toc_section_display": "block",
   "toc_window_display": false,
   "widenNotebook": false
  }
 },
 "nbformat": 4,
 "nbformat_minor": 2
}
