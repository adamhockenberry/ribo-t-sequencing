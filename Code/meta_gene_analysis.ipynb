{
 "cells": [
  {
   "cell_type": "code",
   "execution_count": 1,
   "metadata": {
    "collapsed": true
   },
   "outputs": [],
   "source": [
    "%matplotlib inline"
   ]
  },
  {
   "cell_type": "markdown",
   "metadata": {},
   "source": [
    "# Common imports\n",
    "\n"
   ]
  },
  {
   "cell_type": "code",
   "execution_count": 2,
   "metadata": {
    "collapsed": false
   },
   "outputs": [],
   "source": [
    "from Bio import SeqIO\n",
    "from matplotlib import pyplot as plt\n",
    "import numpy as np\n",
    "import statsmodels.formula.api as smf\n",
    "import pandas as pd\n",
    "\n",
    "from scipy import stats\n",
    "# # from scipy import spatial\n",
    "# # import json\n",
    "\n",
    "from collections import Counter\n",
    "\n",
    "\n",
    "import datetime\n",
    "year = datetime.date.today().year\n",
    "month = datetime.date.today().month\n",
    "import os\n",
    "results_dir = '../Results/{}_{:02}'.format(year, month)\n",
    "if not os.path.exists(results_dir):\n",
    "    os.makedirs(results_dir)"
   ]
  },
  {
   "cell_type": "markdown",
   "metadata": {},
   "source": [
    "# Just some parameters to make prettier plots"
   ]
  },
  {
   "cell_type": "code",
   "execution_count": 3,
   "metadata": {
    "collapsed": true
   },
   "outputs": [],
   "source": [
    "import matplotlib\n",
    "matplotlib.rcParams['xtick.labelsize'] = 10\n",
    "matplotlib.rcParams['ytick.labelsize'] = 10\n",
    "matplotlib.rcParams['axes.labelsize'] = 10\n",
    "matplotlib.rcParams['axes.titlesize'] = 10\n",
    "\n",
    "matplotlib.rcParams['axes.grid'] = True\n",
    "matplotlib.rcParams['grid.color'] = '0.5'\n",
    "matplotlib.rcParams['grid.linewidth'] = '0.5'\n",
    "\n",
    "matplotlib.rcParams['axes.edgecolor'] = '0.25'\n",
    "matplotlib.rcParams['xtick.color'] = '0'\n",
    "matplotlib.rcParams['ytick.color'] = '0'\n",
    "\n",
    "matplotlib.rcParams['xtick.major.width'] = 1\n",
    "matplotlib.rcParams['ytick.major.width'] = 1\n",
    "matplotlib.rcParams['ytick.major.size'] = 5\n",
    "matplotlib.rcParams['xtick.major.size'] = 5\n",
    "matplotlib.rcParams['axes.spines.right'] = True\n",
    "matplotlib.rcParams['axes.spines.left'] = True\n",
    "matplotlib.rcParams['axes.spines.top'] = True\n",
    "matplotlib.rcParams['axes.spines.bottom'] = True\n",
    "\n",
    "matplotlib.rcParams['font.family'] = 'sans-serif'\n",
    "matplotlib.rcParams['font.sans-serif'] = 'Helvetica'\n",
    "matplotlib.rcParams['font.weight']='normal'\n",
    "matplotlib.rcParams['axes.axisbelow'] = True"
   ]
  },
  {
   "cell_type": "markdown",
   "metadata": {},
   "source": [
    "# Some important parameters to toggle / note\n",
    "\n",
    "In reading in the `.wig` files below, there is no offset and each read was assigned to the 3' most nucleotide in the read. With `mapping_offset` = 0, you're just reading in the `.wig` data in its raw form. I did this, and then adjusted the `mapping_offset` parameter so that the peak in the 5' meta-gene analysis lined up with the start codons (to get the peak to line up with the stop codon requires an offset of -9)"
   ]
  },
  {
   "cell_type": "code",
   "execution_count": 4,
   "metadata": {
    "collapsed": true
   },
   "outputs": [],
   "source": [
    "mapping_offset = -16\n",
    "utr_length_to_include = 50"
   ]
  },
  {
   "cell_type": "markdown",
   "metadata": {},
   "source": [
    "# Loading in / parsing the genome file\n",
    "\n",
    "Note that this code (in its current form) is restricted to analyzing coding sequences (tagged CDS), and has several other filters that correspond to the same restrictions that I put on files that were used as input to other programs (Kallisto) such as not considering pseudogenes, etc.\n",
    "\n",
    "Also note that the `full_sequence_dict` that I will use throughout includes flanking nucleotides up and downstream of the CDS according to the `utr_length_to_include` parameter defined above."
   ]
  },
  {
   "cell_type": "code",
   "execution_count": 5,
   "metadata": {
    "collapsed": false
   },
   "outputs": [],
   "source": [
    "genome_file = '../Data/Genome_files/U00096.3.fasta'\n",
    "genome_seq = list(SeqIO.parse(genome_file, 'fasta'))[0]\n",
    "organism = 'Escherichia'"
   ]
  },
  {
   "cell_type": "code",
   "execution_count": 6,
   "metadata": {
    "collapsed": false
   },
   "outputs": [
    {
     "name": "stdout",
     "output_type": "stream",
     "text": [
      "4240\n",
      "4240\n",
      "4240\n",
      "4240\n"
     ]
    }
   ],
   "source": [
    "utr_sequence_dict = {}\n",
    "full_sequence_dict = {}\n",
    "strand_dict = {}\n",
    "location_dict = {}\n",
    "genbank_seq = list(SeqIO.parse('../Data/Genome_files/U00096.3.gb', 'genbank'))[0]\n",
    "for feature in genbank_seq.features:\n",
    "    if feature.type != 'CDS':\n",
    "        continue\n",
    "    elif 'pseudo' in feature.qualifiers:\n",
    "        continue\n",
    "    name = feature.qualifiers['locus_tag'][0] + '_' + feature.qualifiers['gene'][0]\n",
    "    start = feature.location.start\n",
    "    end = feature.location.end\n",
    "    ###Sequence for positive strand genes\n",
    "    if feature.strand == 1:\n",
    "        seq = str(genbank_seq.seq[start-utr_length_to_include:end+utr_length_to_include])\n",
    "    ###Sequence for negative strand genes needs to be reverse complemented\n",
    "    elif feature.strand == -1:\n",
    "        seq = str(genbank_seq.seq[start-utr_length_to_include:end+utr_length_to_include].reverse_complement())\n",
    "    \n",
    "    full_sequence_dict[name] = seq\n",
    "    \n",
    "    ###Separately just grab the 5'UTR as its own dictionary because it may be helpful\n",
    "    utr_seq = seq[:utr_length_to_include]\n",
    "    utr_sequence_dict[name] = utr_seq\n",
    "    \n",
    "    ###Store strand and locations\n",
    "    strand_dict[name] = feature.strand\n",
    "    location_dict[name] = (start, end)\n",
    "\n",
    "print(len(utr_sequence_dict.keys()))\n",
    "print(len(full_sequence_dict.keys()))\n",
    "print(len(strand_dict.keys()))\n",
    "print(len(location_dict.keys()))"
   ]
  },
  {
   "cell_type": "markdown",
   "metadata": {},
   "source": [
    "**Just making sure I extracted everything okay above by counting start and stop codons**"
   ]
  },
  {
   "cell_type": "code",
   "execution_count": 7,
   "metadata": {
    "collapsed": false
   },
   "outputs": [
    {
     "name": "stdout",
     "output_type": "stream",
     "text": [
      "####Start codons\n",
      "Counter({'ATG': 3831, 'GTG': 327, 'TTG': 76, 'ATT': 4, 'CTG': 2})\n",
      "#####Stop codons\n",
      "Counter({'TAA': 2727, 'TGA': 1218, 'TAG': 294, 'ATG': 1})\n"
     ]
    }
   ],
   "source": [
    "starts = []\n",
    "stops = []\n",
    "for name,gene in list(full_sequence_dict.items())[:]:\n",
    "    starts.append(gene[utr_length_to_include:utr_length_to_include+3])\n",
    "    stops.append(gene[-3-utr_length_to_include:-utr_length_to_include])\n",
    "print('####Start codons')\n",
    "print(Counter(starts))\n",
    "print('#####Stop codons')\n",
    "print(Counter(stops))"
   ]
  },
  {
   "cell_type": "code",
   "execution_count": null,
   "metadata": {
    "collapsed": true
   },
   "outputs": [],
   "source": []
  },
  {
   "cell_type": "markdown",
   "metadata": {},
   "source": [
    "# Reading in the .wig files\n",
    "\n",
    "This analysis is predominantly going to be performed on the ribosome profiling data but the RNA-seq data presents a nice internal control for certain things.\n",
    "\n",
    "These `.wig` files were constructed by using a custom python script to read through the `.sam` file of mapped reads and assign a count of 1 to the nucleotide located at the 3' end of the read (for positive strand mapped genes) or a count of 1 to the nucleotide located at the 5' end of the read (for negative strand mapped genes). A number of ways can be thought of to construct the `.wig` from `.sam` since some reads are multiply mapped. Current strategy is to only analyze so called \"primary alignments\" form HISAT2, but another strategy may be to divide/weight reads according to the number of \"secondary alignments\" at other locations in the genome. "
   ]
  },
  {
   "cell_type": "code",
   "execution_count": 8,
   "metadata": {
    "collapsed": true
   },
   "outputs": [],
   "source": [
    "sample_files = [('WTrep1_ribo', '../Data/WIG_files/WTrep1.ribo_cigar_fulladjust_f.wig', '../Data/WIG_files/WTrep1.ribo_cigar_fulladjust_r.wig'),\\\n",
    "               ('WTrep2_ribo', '../Data/WIG_files/WTrep2.ribo_cigar_fulladjust_f.wig', '../Data/WIG_files/WTrep2.ribo_cigar_fulladjust_r.wig'),\\\n",
    "               ('RIBOTrep1_ribo', '../Data/WIG_files/RIBOTrep1.ribo_cigar_fulladjust_f.wig', '../Data/WIG_files/RIBOTrep1.ribo_cigar_fulladjust_r.wig'),\\\n",
    "               ('RIBOTrep2_ribo', '../Data/WIG_files/RIBOTrep2.ribo_cigar_fulladjust_f.wig', '../Data/WIG_files/RIBOTrep2.ribo_cigar_fulladjust_r.wig'),\\\n",
    "               ('WTrep1_rna', '../Data/WIG_files/WTrep1.rna_cigar_fulladjust_f.wig', '../Data/WIG_files/WTrep1.rna_cigar_fulladjust_r.wig'),\\\n",
    "               ('WTrep2_rna', '../Data/WIG_files/WTrep2.rna_cigar_fulladjust_f.wig', '../Data/WIG_files/WTrep2.rna_cigar_fulladjust_r.wig'),\\\n",
    "               ('RIBOTrep1_rna', '../Data/WIG_files/RIBOTrep1.rna_cigar_fulladjust_f.wig', '../Data/WIG_files/RIBOTrep1.rna_cigar_fulladjust_r.wig'),\\\n",
    "               ('RIBOTrep2_rna', '../Data/WIG_files/RIBOTrep2.rna_cigar_fulladjust_f.wig', '../Data/WIG_files/RIBOTrep2.rna_cigar_fulladjust_r.wig')]\n",
    "\n",
    "sample_names = [i[0] for i in sample_files]"
   ]
  },
  {
   "cell_type": "code",
   "execution_count": 9,
   "metadata": {
    "collapsed": false,
    "scrolled": true
   },
   "outputs": [
    {
     "name": "stdout",
     "output_type": "stream",
     "text": [
      "##### WTrep1_ribo\n",
      "Done with fwd\n",
      "Done with rev\n",
      "##### WTrep2_ribo\n",
      "Done with fwd\n",
      "Done with rev\n",
      "##### RIBOTrep1_ribo\n",
      "Done with fwd\n",
      "Done with rev\n",
      "##### RIBOTrep2_ribo\n",
      "Done with fwd\n",
      "Done with rev\n",
      "##### WTrep1_rna\n",
      "Done with fwd\n",
      "Done with rev\n",
      "##### WTrep2_rna\n",
      "Done with fwd\n",
      "Done with rev\n",
      "##### RIBOTrep1_rna\n",
      "Done with fwd\n",
      "Done with rev\n",
      "##### RIBOTrep2_rna\n",
      "Done with fwd\n",
      "Done with rev\n"
     ]
    }
   ],
   "source": [
    "feature_dict_meta = {}\n",
    "for sample_file in sample_files[:]:\n",
    "    sample_name, fwd, rev = sample_file\n",
    "    print('##### {}'.format(sample_name))\n",
    "    feature_dict_meta[sample_name] = {}\n",
    "    \n",
    "    ################################\n",
    "    ###Essentially get the fwd and rev genome coverage\n",
    "    fwd_dicty = {}\n",
    "    rev_dicty = {}\n",
    "    with open(fwd) as infile:\n",
    "        for line in enumerate(infile):\n",
    "            if line[0] > 0:###Ignore the first line of the file\n",
    "                split_line = line[1].split('\\t')\n",
    "                fwd_dicty[int(split_line[0])+mapping_offset] = float(split_line[1])#Note: mapping offset addition\n",
    "    print('Done with fwd')\n",
    "    with open(rev) as infile:\n",
    "        for line in enumerate(infile):\n",
    "            if line[0] > 0:###Ignore the first line of the file\n",
    "                split_line = line[1].split('\\t')\n",
    "                rev_dicty[int(split_line[0])-mapping_offset] = float(split_line[1])#Note: mapping offset subtraction\n",
    "    print('Done with rev')\n",
    "    for gene_name in full_sequence_dict.keys():        \n",
    "        ####Dealing with positive strand genes first\n",
    "        if strand_dict[gene_name] == 1:\n",
    "            ###Get all positions that I care about\n",
    "            pos = (location_dict[gene_name][0]-utr_length_to_include, location_dict[gene_name][1]+utr_length_to_include)\n",
    "            if pos[1] < pos[0]:\n",
    "                print('found a bug')\n",
    "                continue\n",
    "            sequencing = []\n",
    "            ###Append read values and if there are none, append zero\n",
    "            for i in range(pos[0], pos[1]+1):\n",
    "                try:\n",
    "                    sequencing.append(fwd_dicty[i])\n",
    "                except KeyError:\n",
    "                    sequencing.append(0)\n",
    "            feature_dict_meta[sample_name][gene_name] = sequencing\n",
    "        ####And repeat for negative strand genes\n",
    "        elif strand_dict[gene_name] == -1:\n",
    "            pos = (location_dict[gene_name][0]-utr_length_to_include, location_dict[gene_name][1]+utr_length_to_include)\n",
    "            if pos[1] < pos[0]:\n",
    "                print('found a bug')\n",
    "                continue\n",
    "            sequencing = []\n",
    "            for i in range(pos[0], pos[1]+1):\n",
    "                try:\n",
    "                    sequencing.append(rev_dicty[i])\n",
    "                except KeyError:\n",
    "                    sequencing.append(0)\n",
    "            feature_dict_meta[sample_name][gene_name] = sequencing[::-1]###Note the CRUCIAL reverse here"
   ]
  },
  {
   "cell_type": "markdown",
   "metadata": {},
   "source": [
    "**Check total read numbers across all of these features (only considering the CDS)**\n",
    "\n",
    "This number will be different from the actual reads mapped via HISAT2 since I'm only looking at reads mapped to the subset of CDS's that I'm considering here and the CDS itself. I believe that any normalization for read depth should be done based on this number rather than the total number of reads mapped. Also note that there will be a small amount of double counting in the case of overlapping genes but this should be relatively inconsequential"
   ]
  },
  {
   "cell_type": "code",
   "execution_count": 10,
   "metadata": {
    "collapsed": false
   },
   "outputs": [
    {
     "name": "stdout",
     "output_type": "stream",
     "text": [
      "WTrep1_ribo 24372749.0\n",
      "WTrep2_ribo 16785668.0\n",
      "RIBOTrep1_ribo 13060357.0\n",
      "RIBOTrep2_ribo 14826861.0\n",
      "WTrep1_rna 4128448.0\n",
      "WTrep2_rna 3909465.0\n",
      "RIBOTrep1_rna 4244009.0\n",
      "RIBOTrep2_rna 3061314.0\n"
     ]
    }
   ],
   "source": [
    "total_read_dict = {}\n",
    "for i in sample_names:\n",
    "    all_features = []\n",
    "    for j in feature_dict_meta[i].values():\n",
    "        all_features.extend(j[utr_length_to_include:-1*utr_length_to_include])\n",
    "    print(i, np.sum(all_features))\n",
    "    total_read_dict[i] = np.sum(all_features)"
   ]
  },
  {
   "cell_type": "code",
   "execution_count": null,
   "metadata": {
    "collapsed": true
   },
   "outputs": [],
   "source": []
  },
  {
   "cell_type": "markdown",
   "metadata": {},
   "source": [
    "# Periodicity check\n",
    "**Expecting ribosome profiling reads to be periodic and RNA-seq reads not to be**"
   ]
  },
  {
   "cell_type": "code",
   "execution_count": 11,
   "metadata": {
    "collapsed": false,
    "scrolled": false
   },
   "outputs": [
    {
     "name": "stdout",
     "output_type": "stream",
     "text": [
      "####### WTrep1_ribo\n",
      "####### WTrep2_ribo\n",
      "####### RIBOTrep1_ribo\n",
      "####### RIBOTrep2_ribo\n",
      "####### WTrep1_rna\n",
      "####### WTrep2_rna\n",
      "####### RIBOTrep1_rna\n",
      "####### RIBOTrep2_rna\n"
     ]
    },
    {
     "data": {
      "image/png": "[encoded data removed]",
      "text/plain": [
       "<matplotlib.figure.Figure at 0x1144d4390>"
      ]
     },
     "metadata": {},
     "output_type": "display_data"
    },
    {
     "data": {
      "image/png": "[encoded data removed]",
      "text/plain": [
       "<matplotlib.figure.Figure at 0x10b9cd2e8>"
      ]
     },
     "metadata": {},
     "output_type": "display_data"
    },
    {
     "data": {
      "image/png": "[encoded data removed]",
      "text/plain": [
       "<matplotlib.figure.Figure at 0x10bc5bba8>"
      ]
     },
     "metadata": {},
     "output_type": "display_data"
    },
    {
     "data": {
      "image/png": "[encoded data removed]",
      "text/plain": [
       "<matplotlib.figure.Figure at 0x114207d68>"
      ]
     },
     "metadata": {},
     "output_type": "display_data"
    },
    {
     "data": {
      "image/png": "[encoded data removed]",
      "text/plain": [
       "<matplotlib.figure.Figure at 0x1194f7630>"
      ]
     },
     "metadata": {},
     "output_type": "display_data"
    },
    {
     "data": {
      "image/png": "[encoded data removed]",
      "text/plain": [
       "<matplotlib.figure.Figure at 0x1195ad2e8>"
      ]
     },
     "metadata": {},
     "output_type": "display_data"
    },
    {
     "data": {
      "image/png": "[encoded data removed]",
      "text/plain": [
       "<matplotlib.figure.Figure at 0x119657080>"
      ]
     },
     "metadata": {},
     "output_type": "display_data"
    },
    {
     "data": {
      "image/png": "[encoded data removed]",
      "text/plain": [
       "<matplotlib.figure.Figure at 0x1195f6668>"
      ]
     },
     "metadata": {},
     "output_type": "display_data"
    }
   ],
   "source": [
    "for sample in sample_names[:]:\n",
    "    print('####### {}'.format(sample))\n",
    "    valid_genes = 0\n",
    "    first, second, third = [], [], []\n",
    "    for name, reads in feature_dict_meta[sample].items():\n",
    "        ###Extract just the CDS\n",
    "        cds_reads = reads[utr_length_to_include:-1*utr_length_to_include]\n",
    "        ###Actually, extract the center of the CDS to remove initiation/termination effects\n",
    "        cds_reads = cds_reads[18:-18]\n",
    "        meany = np.mean(cds_reads)\n",
    "        \n",
    "        ###Filter out low expression/coverage genes from this analysis\n",
    "        if meany <= 0.5:\n",
    "            continue\n",
    "        if np.percentile(cds_reads, 80) <= 0:\n",
    "            continue\n",
    "            \n",
    "        ###Normalize the reads for each gene\n",
    "        cds_reads = np.array(cds_reads)/meany\n",
    "        temp_first = cds_reads[0::3]\n",
    "        temp_second = cds_reads[1::3]\n",
    "        temp_third = cds_reads[2::3]\n",
    "        first.extend(temp_first)\n",
    "        second.extend(temp_second)\n",
    "        third.extend(temp_third)\n",
    "        valid_genes += 1\n",
    "\n",
    "    fig, ax = plt.subplots()\n",
    "    ax.bar([1, 2, 3], [np.mean(first), np.mean(second), np.mean(third)],\\\n",
    "               yerr=[np.std(first)/len(first), np.std(second)/len(second), np.std(third)/len(third)])\n",
    "    ax.set_title('{}, n={} genes'.format(sample, valid_genes))\n",
    "    ax.set_ylabel('Average relative abundance')\n",
    "    ax.set_xlabel('Codon positions')\n",
    "    ax.set_ylim(0, 1.5)\n",
    "    plt.savefig('{}/{}_read_periodicity.pdf'.format(results_dir, sample), bbox_inches='tight')"
   ]
  },
  {
   "cell_type": "markdown",
   "metadata": {},
   "source": [
    "# Get a list of genes that appear in all of the ribosome profiling datasets subject to some basic constraints\n",
    "\n",
    "Constraints seem necessary but are entirely arbitrary here. I currently impose a length, coverage, and mean number of reads constraint"
   ]
  },
  {
   "cell_type": "code",
   "execution_count": 12,
   "metadata": {
    "collapsed": false
   },
   "outputs": [
    {
     "name": "stdout",
     "output_type": "stream",
     "text": [
      "##################################\n",
      "WTrep1_ribo  inititially has  4240 genes (sanity check)\n",
      "now has 2057 after coverage and length threshold\n",
      "##################################\n",
      "WTrep2_ribo  inititially has  4240 genes (sanity check)\n",
      "now has 1895 after coverage and length threshold\n",
      "##################################\n",
      "RIBOTrep1_ribo  inititially has  4240 genes (sanity check)\n",
      "now has 1650 after coverage and length threshold\n",
      "##################################\n",
      "RIBOTrep2_ribo  inititially has  4240 genes (sanity check)\n",
      "now has 1729 after coverage and length threshold\n",
      "##################################\n",
      "##################################\n",
      "##################################\n",
      "There are 1600 genes that appear in all ribosome datasets\n"
     ]
    }
   ],
   "source": [
    "for i in sample_names:\n",
    "    if i.find('_ribo') == -1:\n",
    "        continue\n",
    "    print('##################################')\n",
    "    print(i, ' inititially has ', len(feature_dict_meta[i]), 'genes (sanity check)')\n",
    "    to_delete = [] \n",
    "    for j in feature_dict_meta[i]:\n",
    "        ####Length cutoff is to make sure each CDS is 100 nts long\n",
    "        if len(feature_dict_meta[i][j]) < 100+(utr_length_to_include*2): \n",
    "            to_delete.append(j)\n",
    "        ####Coverage cutoff is to make sure that at least 20% of the values in the CDS are non-zero\n",
    "        elif np.percentile(feature_dict_meta[i][j][utr_length_to_include:-1*utr_length_to_include], 80) <= 0: ###Important parameter here, genes to discard based on coverage\n",
    "            to_delete.append(j)\n",
    "        ####Finally cut the lowest expression genes (mean less than 0.5)\n",
    "        elif np.mean(feature_dict_meta[i][j][utr_length_to_include:-1*utr_length_to_include]) < 0.5:\n",
    "            to_delete.append(j)\n",
    "    for j in to_delete:\n",
    "        del feature_dict_meta[i][j]\n",
    "    print('now has', len(feature_dict_meta[i]), 'after coverage and length threshold')\n",
    "    \n",
    "genes_in_all_ribo = []\n",
    "for gene in feature_dict_meta['WTrep1_ribo']:\n",
    "    if gene not in feature_dict_meta['WTrep2_ribo']:\n",
    "        continue\n",
    "    if gene not in feature_dict_meta['RIBOTrep1_ribo']:\n",
    "        continue\n",
    "    if gene not in feature_dict_meta['RIBOTrep2_ribo']:\n",
    "        continue\n",
    "    genes_in_all_ribo.append(gene)\n",
    "\n",
    "print('##################################')\n",
    "print('##################################')\n",
    "print('##################################')\n",
    "print('There are', len(genes_in_all_ribo), 'genes that appear in all ribosome datasets')"
   ]
  },
  {
   "cell_type": "markdown",
   "metadata": {},
   "source": [
    "**Do the same for the RNA datasets (this will just be as a control)**"
   ]
  },
  {
   "cell_type": "code",
   "execution_count": 13,
   "metadata": {
    "collapsed": false
   },
   "outputs": [
    {
     "name": "stdout",
     "output_type": "stream",
     "text": [
      "##################################\n",
      "WTrep1_rna  inititially has  4240 genes (sanity check)\n",
      "now has 1030 after coverage and length threshold\n",
      "##################################\n",
      "WTrep2_rna  inititially has  4240 genes (sanity check)\n",
      "now has 1012 after coverage and length threshold\n",
      "##################################\n",
      "RIBOTrep1_rna  inititially has  4240 genes (sanity check)\n",
      "now has 1018 after coverage and length threshold\n",
      "##################################\n",
      "RIBOTrep2_rna  inititially has  4240 genes (sanity check)\n",
      "now has 816 after coverage and length threshold\n",
      "##################################\n",
      "##################################\n",
      "##################################\n",
      "There are 778 genes that appear in all rna datasets\n"
     ]
    }
   ],
   "source": [
    "for i in sample_names:\n",
    "    if i.find('_rna') == -1:\n",
    "        continue\n",
    "    print('##################################')\n",
    "    print(i, ' inititially has ', len(feature_dict_meta[i]), 'genes (sanity check)')\n",
    "    to_delete = [] \n",
    "    for j in feature_dict_meta[i]:\n",
    "        ####Length cutoff is to make sure each CDS is 200 nts long\n",
    "        if len(feature_dict_meta[i][j]) < 200: \n",
    "            to_delete.append(j)\n",
    "        ####Coverage cutoff is to make sure that at least 20% of the values in the CDS are non-zero\n",
    "        elif np.percentile(feature_dict_meta[i][j][utr_length_to_include:-1*utr_length_to_include], 80) <= 0: ###Important parameter here, genes to discard based on coverage\n",
    "            to_delete.append(j)\n",
    "        ####Finally cut the lowest expression genes (mean less than 0.5)\n",
    "        elif np.mean(feature_dict_meta[i][j][utr_length_to_include:-1*utr_length_to_include]) < 0.5:\n",
    "            to_delete.append(j)\n",
    "    for j in to_delete:\n",
    "        del feature_dict_meta[i][j]\n",
    "    print('now has', len(feature_dict_meta[i]), 'after coverage and length threshold')\n",
    "    \n",
    "genes_in_all_rna = []\n",
    "for gene in feature_dict_meta['WTrep1_rna']:\n",
    "    if gene not in feature_dict_meta['WTrep2_rna']:\n",
    "        continue\n",
    "    if gene not in feature_dict_meta['RIBOTrep1_rna']:\n",
    "        continue\n",
    "    if gene not in feature_dict_meta['RIBOTrep2_rna']:\n",
    "        continue\n",
    "    genes_in_all_rna.append(gene)\n",
    "\n",
    "print('##################################')\n",
    "print('##################################')\n",
    "print('##################################')\n",
    "print('There are', len(genes_in_all_rna), 'genes that appear in all rna datasets')"
   ]
  },
  {
   "cell_type": "markdown",
   "metadata": {},
   "source": [
    "# Finally, subset out genes based on operon position to make the meta-analysis more clean \n",
    "\n",
    "This is pretty messy / slow. Ultimately perhaps not even important but a nice check to have nevertheless. I went back and verified from a few operons on EcoCyc that it outputs the correct results.\n",
    "\n",
    "The basic premise here is to look at the 5' end of genes, perhaps we should ignore genes that are 2nd, 3rd, 4th, etc. in an operon since reads from the upstream gene will blur the signal that we care about. Likewise, looking at the 3' meta analysis we might want to ignore genes where there is another gene directly downstream of the stop codon which again will blur our signal."
   ]
  },
  {
   "cell_type": "code",
   "execution_count": 14,
   "metadata": {
    "collapsed": false
   },
   "outputs": [
    {
     "name": "stdout",
     "output_type": "stream",
     "text": [
      "Compiled all starts/stops\n",
      "Extended all starts/stops by 50\n",
      "Finished concatenating the location of all starts/stops\n",
      "Number of genes with a follower 1527\n",
      "Number of genes with a preceder 1524\n"
     ]
    }
   ],
   "source": [
    "genes_with_a_preceder = []\n",
    "genes_with_a_follower = []\n",
    "starts_positive_strand = []\n",
    "starts_negative_strand = []\n",
    "ends_positive_strand = []\n",
    "ends_negative_strand = []\n",
    "for gene in strand_dict.keys():\n",
    "    if strand_dict[gene] == 1:\n",
    "        starts_positive_strand.append(location_dict[gene][0])\n",
    "        ends_positive_strand.append(location_dict[gene][1])\n",
    "        assert starts_positive_strand[-1] < ends_positive_strand[-1]\n",
    "    if strand_dict[gene] == -1:\n",
    "        starts_negative_strand.append(location_dict[gene][1])\n",
    "        ends_negative_strand.append(location_dict[gene][0])\n",
    "        assert starts_negative_strand[-1] > ends_negative_strand[-1]\n",
    "\n",
    "print('Compiled all starts/stops')\n",
    "region_to_extend = 50\n",
    "for i,j in enumerate(starts_positive_strand):\n",
    "    starts_positive_strand[i] = list(range(j-region_to_extend,j+region_to_extend,1))\n",
    "for i,j in enumerate(starts_negative_strand):\n",
    "    starts_negative_strand[i] = list(range(j-region_to_extend,j+region_to_extend,1))\n",
    "for i,j in enumerate(ends_positive_strand):\n",
    "    ends_positive_strand[i] = list(range(j-region_to_extend,j+region_to_extend,1))\n",
    "for i,j in enumerate(ends_negative_strand):\n",
    "    ends_negative_strand[i] = list(range(j-region_to_extend,j+region_to_extend,1))\n",
    "print('Extended all starts/stops by {}'.format(region_to_extend))\n",
    "\n",
    "####Just put everyone together into a bigggg list/s\n",
    "all_starts_positive = []\n",
    "for i in starts_positive_strand:\n",
    "    all_starts_positive.extend(i)\n",
    "all_starts_negative = []\n",
    "for i in starts_negative_strand:\n",
    "    all_starts_negative.extend(i)\n",
    "    \n",
    "all_ends_positive = []\n",
    "for i in ends_positive_strand:\n",
    "    all_ends_positive.extend(i)\n",
    "all_ends_negative = []\n",
    "for i in ends_negative_strand:\n",
    "    all_ends_negative.extend(i)\n",
    "print('Finished concatenating the location of all starts/stops')\n",
    "    \n",
    "for gene in strand_dict.keys():\n",
    "    if strand_dict[gene] == 1:\n",
    "        start, end = location_dict[gene]\n",
    "        if end in all_starts_positive:\n",
    "            genes_with_a_follower.append(gene)\n",
    "        if start in all_ends_positive:\n",
    "            genes_with_a_preceder.append(gene)\n",
    "    elif strand_dict[gene] == -1:\n",
    "        end, start = location_dict[gene]\n",
    "        if end in all_starts_negative:\n",
    "            genes_with_a_follower.append(gene)\n",
    "        if start in all_ends_negative:\n",
    "            genes_with_a_preceder.append(gene)\n",
    "        \n",
    "print('Number of genes with a follower', len(genes_with_a_follower))\n",
    "print('Number of genes with a preceder', len(genes_with_a_preceder))"
   ]
  },
  {
   "cell_type": "code",
   "execution_count": 15,
   "metadata": {
    "collapsed": false
   },
   "outputs": [
    {
     "name": "stdout",
     "output_type": "stream",
     "text": [
      "Testing by strand\n",
      "Positive strand\n",
      "739\n",
      "733\n",
      "Negative strand\n",
      "788\n",
      "791\n"
     ]
    }
   ],
   "source": [
    "print('Testing by strand')\n",
    "print('Positive strand')\n",
    "print(len([i for i in genes_with_a_follower if strand_dict[i] == 1]))\n",
    "print(len([i for i in genes_with_a_preceder if strand_dict[i] == 1]))\n",
    "print('Negative strand')\n",
    "print(len([i for i in genes_with_a_follower if strand_dict[i] == -1]))\n",
    "print(len([i for i in genes_with_a_preceder if strand_dict[i] == -1]))"
   ]
  },
  {
   "cell_type": "code",
   "execution_count": 16,
   "metadata": {
    "collapsed": false
   },
   "outputs": [
    {
     "name": "stdout",
     "output_type": "stream",
     "text": [
      "2316\n",
      "3051\n"
     ]
    }
   ],
   "source": [
    "print(len(list(set(genes_with_a_follower + genes_with_a_preceder))))\n",
    "print(len(list(genes_with_a_follower + genes_with_a_preceder)))"
   ]
  },
  {
   "cell_type": "markdown",
   "metadata": {},
   "source": [
    "# 5' meta-analysis\n",
    "\n",
    "A flag that I'll note here is `winsorize` which transforms the data slightly to mitigate the effect of outliers within each gene before subsequently taking column-averages across the genes for each position. It's not clear whether this is necessary (or helpful) but I found it to be a useful robustness check to ensure that the results are not dependent on findings from a few strongly outlying data points/peaks. Findings seem very robust regardless of the flag."
   ]
  },
  {
   "cell_type": "code",
   "execution_count": 17,
   "metadata": {
    "collapsed": false
   },
   "outputs": [
    {
     "name": "stdout",
     "output_type": "stream",
     "text": [
      "WTrep1_ribo\n",
      "1082\n",
      "WTrep2_ribo\n",
      "1082\n",
      "RIBOTrep1_ribo\n",
      "1082\n",
      "RIBOTrep2_ribo\n",
      "1082\n"
     ]
    },
    {
     "data": {
      "image/png": "[encoded data removed]",
      "text/plain": [
       "<matplotlib.figure.Figure at 0x119453f60>"
      ]
     },
     "metadata": {},
     "output_type": "display_data"
    }
   ],
   "source": [
    "plotting_dict = {}\n",
    "full_dict_temp = {}\n",
    "winsorize = False\n",
    "analysis_type = 'Ribo'\n",
    "#####################################\n",
    "#####################################\n",
    "#####################################\n",
    "if analysis_type == 'Ribo':\n",
    "    samples_to_consider = sample_names[:4]\n",
    "    genes_to_consider = genes_in_all_ribo\n",
    "elif analysis_type == 'RNA':\n",
    "    samples_to_consider = sample_names[4:]\n",
    "    genes_to_consider = genes_in_all_rna\n",
    "    \n",
    "for sample in samples_to_consider:\n",
    "    print(sample)\n",
    "    temp_array = []\n",
    "    for gene in genes_to_consider:\n",
    "        if gene in genes_with_a_preceder:\n",
    "            continue\n",
    "#         if strand_dict[gene] == 1:\n",
    "#             continue\n",
    "        ###\n",
    "        if winsorize:\n",
    "            reads = stats.mstats.winsorize(np.array(feature_dict_meta[sample][gene]), axis=0, limits=0.05)\n",
    "        else:\n",
    "            reads = feature_dict_meta[sample][gene]\n",
    "        ###\n",
    "        meany = np.mean(reads[utr_length_to_include:-1*utr_length_to_include]) ###Calculate the mean based on the CDS only\n",
    "        temp_array.append([i/meany for i in reads[:utr_length_to_include*2]])\n",
    "    print(len(temp_array))\n",
    "    y_vals = np.mean(np.array(temp_array), axis=0)\n",
    "    plotting_dict[sample] = y_vals\n",
    "    full_dict_temp[sample] = temp_array\n",
    "\n",
    "\n",
    "x_vals = np.arange(-1*utr_length_to_include, utr_length_to_include, 1)\n",
    "fig, ax = plt.subplots(figsize=(8,6))\n",
    "ax.plot(x_vals, plotting_dict[samples_to_consider[0]], c='steelblue', alpha=0.8, label='WTrep1')\n",
    "ax.plot(x_vals, plotting_dict[samples_to_consider[1]], c='purple', alpha=0.8, label='WTrep2')\n",
    "ax.plot(x_vals, plotting_dict[samples_to_consider[2]], c='darkorange', alpha=0.8, label='RIBOTrep1')\n",
    "ax.plot(x_vals, plotting_dict[samples_to_consider[3]], c='firebrick', alpha=0.8, label='RIBOTrep2')\n",
    "ax.legend(fontsize=16)\n",
    "ax.set_title('{} genes appearing in all 4 {} datasets'.format(len(temp_array), analysis_type), fontsize=20)\n",
    "ax.tick_params(labelsize=16)\n",
    "ax.set_xlabel('Position relative to start', fontsize=20)\n",
    "ax.set_ylabel('Avg normalized reads', fontsize=20)\n",
    "maxy = max([max(plotting_dict[i]) for i in samples_to_consider]) \n",
    "ax.plot([0, 0], [0, maxy + 0.2], 'k-')\n",
    "ax.set_ylim(0, maxy + 0.2)\n",
    "plt.tight_layout()\n",
    "if winsorize:\n",
    "    plt.savefig('{}/5prime_{}_winsor.pdf'.format(results_dir, analysis_type), bbox_inches='tight')\n",
    "else:\n",
    "    plt.savefig('{}/5prime_{}_nowinsor.pdf'.format(results_dir, analysis_type), bbox_inches='tight')"
   ]
  },
  {
   "cell_type": "code",
   "execution_count": 18,
   "metadata": {
    "collapsed": false
   },
   "outputs": [],
   "source": [
    "df = pd.DataFrame(index=x_vals)\n",
    "for sample in samples_to_consider:\n",
    "    df[sample] = plotting_dict[sample]"
   ]
  },
  {
   "cell_type": "markdown",
   "metadata": {},
   "source": [
    "** Statistical significance. This is a very rough and preliminary way of calculating the significance at each point using a mixed linear model where each gene is a fixed effect. I think there are some issues with this, namely that the reads are not normally distributed and are more poisson/negative binomial/log-normal. So I take these p-values with a grain of salt but I'm unaware of a non-parametric mixed model implementation. And comparison with the RNA-seq reads shows a pretty stark difference **"
   ]
  },
  {
   "cell_type": "code",
   "execution_count": null,
   "metadata": {
    "collapsed": false
   },
   "outputs": [],
   "source": [
    "pval_listy = []\n",
    "for position in range(100):\n",
    "    print(position)\n",
    "    df_stat = pd.DataFrame()\n",
    "    for sample, temp_array in full_dict_temp.items():\n",
    "        if 'WT' in sample:\n",
    "            sample_name = 'WT'\n",
    "        elif 'RIBOT' in sample:\n",
    "            sample_name ='RIBOT'\n",
    "        vals = np.array(temp_array).T[position]\n",
    "        temp_df = pd.DataFrame()\n",
    "        temp_df['value'] = vals\n",
    "        temp_df['Condition'] = sample_name\n",
    "        temp_df['gene_n'] = list(range(len(vals)))\n",
    "        df_stat = pd.concat([df_stat, temp_df])\n",
    "    md = smf.mixedlm('value~C(Condition)', df_stat, groups=df_stat['gene_n']).fit()\n",
    "    pval_listy.append(md.pvalues[1])"
   ]
  },
  {
   "cell_type": "code",
   "execution_count": null,
   "metadata": {
    "collapsed": false
   },
   "outputs": [],
   "source": [
    "fig, ax = plt.subplots()\n",
    "ax.semilogy(x_vals, pval_listy)\n",
    "ax.axhline(0.01/100, c='r', linestyle='--')\n",
    "ax.tick_params(labelsize=16)\n",
    "ax.set_xlabel('Position relative to start', fontsize=20)\n",
    "ax.set_ylabel('p-value from mixedlm', fontsize=20)\n",
    "plt.tight_layout()\n",
    "if winsorize:\n",
    "    plt.savefig('{}/5prime_{}_pval_winsor.pdf'.format(results_dir, analysis_type), bbox_inches='tight')\n",
    "else:\n",
    "    plt.savefig('{}/5prime_{}_pval_nowinsor.pdf'.format(results_dir, analysis_type), bbox_inches='tight')"
   ]
  },
  {
   "cell_type": "code",
   "execution_count": null,
   "metadata": {
    "collapsed": false
   },
   "outputs": [],
   "source": [
    "df['mixedlm_pvalue'] = pval_listy"
   ]
  },
  {
   "cell_type": "code",
   "execution_count": null,
   "metadata": {
    "collapsed": true
   },
   "outputs": [],
   "source": [
    "if winsorize:\n",
    "    df.to_csv('{}/5prime_{}_winsor.csv'.format(results_dir, analysis_type))\n",
    "else:\n",
    "    df.to_csv('{}/5prime_{}_nowinsor.csv'.format(results_dir, analysis_type))"
   ]
  },
  {
   "cell_type": "code",
   "execution_count": null,
   "metadata": {
    "collapsed": true
   },
   "outputs": [],
   "source": []
  },
  {
   "cell_type": "markdown",
   "metadata": {
    "collapsed": true
   },
   "source": [
    "# 3' Meta-analysis\n",
    "\n",
    "Same as above repeated for the 3' end of genes"
   ]
  },
  {
   "cell_type": "code",
   "execution_count": 19,
   "metadata": {
    "collapsed": false
   },
   "outputs": [
    {
     "name": "stdout",
     "output_type": "stream",
     "text": [
      "WTrep1_ribo\n",
      "WTrep2_ribo\n",
      "RIBOTrep1_ribo\n",
      "RIBOTrep2_ribo\n"
     ]
    },
    {
     "data": {
      "image/png": "[encoded data removed]",
      "text/plain": [
       "<matplotlib.figure.Figure at 0x11967a5f8>"
      ]
     },
     "metadata": {},
     "output_type": "display_data"
    }
   ],
   "source": [
    "plotting_dict = {}\n",
    "full_dict_temp = {}\n",
    "winsorize = False\n",
    "\n",
    "analysis_type = 'Ribo'\n",
    "#####################################\n",
    "#####################################\n",
    "#####################################\n",
    "if analysis_type == 'Ribo':\n",
    "    samples_to_consider = sample_names[:4]\n",
    "    genes_to_consider = genes_in_all_ribo\n",
    "elif analysis_type == 'RNA':\n",
    "    samples_to_consider = sample_names[4:]\n",
    "    genes_to_consider = genes_in_all_rna\n",
    "    \n",
    "for sample in samples_to_consider:\n",
    "    print(sample)\n",
    "    temp_array = []\n",
    "    for gene in genes_to_consider:\n",
    "        if gene in genes_with_a_follower:\n",
    "            continue\n",
    "#         if strand_dict[gene] == 1:\n",
    "#             continue\n",
    "        if winsorize:\n",
    "            reads = stats.mstats.winsorize(np.array(feature_dict_meta[sample][gene]), axis=0, limits=0.05)\n",
    "        else:\n",
    "            reads = feature_dict_meta[sample][gene]\n",
    "        meany = np.mean(reads[utr_length_to_include:-1*utr_length_to_include]) ###Calculate the mean based on the CDS only\n",
    "        temp_array.append([i/meany for i in reads[-1*utr_length_to_include*2:]])\n",
    "    temp_array = stats.mstats.winsorize(np.array(temp_array), axis=0, limits=0.05)\n",
    "    y_vals = np.mean(np.array(temp_array), axis=0)\n",
    "    plotting_dict[sample] = y_vals\n",
    "    full_dict_temp[sample] = temp_array\n",
    "\n",
    "x_vals = np.arange(-1*utr_length_to_include, utr_length_to_include, 1)\n",
    "fig, ax = plt.subplots(figsize=(8,6))\n",
    "ax.plot(x_vals, plotting_dict[samples_to_consider[0]], c='steelblue', alpha=0.8, label='WTrep1')\n",
    "ax.plot(x_vals, plotting_dict[samples_to_consider[1]], c='purple', alpha=0.8, label='WTrep2')\n",
    "ax.plot(x_vals, plotting_dict[samples_to_consider[2]], c='darkorange', alpha=0.8, label='RIBOTrep1')\n",
    "ax.plot(x_vals, plotting_dict[samples_to_consider[3]], c='firebrick', alpha=0.8, label='RIBOTrep2')\n",
    "ax.legend(fontsize=16)\n",
    "ax.set_title('{} genes appearing in all 4 datasets'.format(len(temp_array)), fontsize=20)\n",
    "ax.tick_params(labelsize=16)\n",
    "ax.set_xlabel('Position relative to stop', fontsize=20)\n",
    "ax.set_ylabel('Avg normalized reads', fontsize=20)\n",
    "maxy = max([max(plotting_dict[i]) for i in samples_to_consider]) \n",
    "ax.plot([0, 0], [0, maxy + 0.2], 'k-')\n",
    "ax.set_ylim(0, maxy + 0.2)\n",
    "plt.tight_layout()\n",
    "if winsorize:\n",
    "    plt.savefig('{}/3prime_{}_winsor.pdf'.format(results_dir, analysis_type), bbox_inches='tight')\n",
    "else:\n",
    "    plt.savefig('{}/3prime_{}_nowinsor.pdf'.format(results_dir, analysis_type), bbox_inches='tight')"
   ]
  },
  {
   "cell_type": "code",
   "execution_count": null,
   "metadata": {
    "collapsed": true
   },
   "outputs": [],
   "source": [
    "df = pd.DataFrame(index=x_vals)\n",
    "for sample in samples_to_consider:\n",
    "    df[sample] = plotting_dict[sample]"
   ]
  },
  {
   "cell_type": "markdown",
   "metadata": {},
   "source": [
    "** Stat sig **"
   ]
  },
  {
   "cell_type": "code",
   "execution_count": null,
   "metadata": {
    "collapsed": false
   },
   "outputs": [],
   "source": [
    "pval_listy = []\n",
    "for position in range(100):\n",
    "    print(position)\n",
    "    df_stat = pd.DataFrame()\n",
    "    for sample, temp_array in full_dict_temp.items():\n",
    "        if 'WT' in sample:\n",
    "            sample_name = 'WT'\n",
    "        elif 'RIBOT' in sample:\n",
    "            sample_name ='RIBOT'\n",
    "        vals = np.array(temp_array).T[position]\n",
    "        temp_df = pd.DataFrame()\n",
    "        temp_df['value'] = vals\n",
    "        temp_df['Condition'] = sample_name\n",
    "        temp_df['gene_n'] = list(range(len(vals)))\n",
    "        df_stat = pd.concat([df_stat, temp_df])\n",
    "    md = smf.mixedlm('value~C(Condition)', df_stat, groups=df_stat['gene_n']).fit()\n",
    "    pval_listy.append(md.pvalues[1])"
   ]
  },
  {
   "cell_type": "code",
   "execution_count": null,
   "metadata": {
    "collapsed": false
   },
   "outputs": [],
   "source": [
    "fig, ax = plt.subplots()\n",
    "ax.semilogy(x_vals, pval_listy)\n",
    "ax.axhline(0.01/100, c='r', linestyle='--')\n",
    "ax.tick_params(labelsize=16)\n",
    "ax.set_xlabel('Position relative to stop', fontsize=20)\n",
    "ax.set_ylabel('p-value from mixedlm', fontsize=20)\n",
    "plt.tight_layout()\n",
    "if winsorize:\n",
    "    plt.savefig('{}/3prime_{}_pval_winsor.pdf'.format(results_dir, analysis_type), bbox_inches='tight')\n",
    "else:\n",
    "    plt.savefig('{}/3prime_{}_pval_nowinsor.pdf'.format(results_dir, analysis_type), bbox_inches='tight')"
   ]
  },
  {
   "cell_type": "code",
   "execution_count": null,
   "metadata": {
    "collapsed": false
   },
   "outputs": [],
   "source": [
    "df['mixedlm_pvalue'] = pval_listy"
   ]
  },
  {
   "cell_type": "code",
   "execution_count": null,
   "metadata": {
    "collapsed": true
   },
   "outputs": [],
   "source": [
    "if winsorize:\n",
    "    df.to_csv('{}/3prime_{}_winsor.csv'.format(results_dir, analysis_type))\n",
    "else:\n",
    "    df.to_csv('{}/3prime_{}_nowinsor.csv'.format(results_dir, analysis_type))"
   ]
  },
  {
   "cell_type": "code",
   "execution_count": null,
   "metadata": {
    "collapsed": false
   },
   "outputs": [],
   "source": []
  },
  {
   "cell_type": "code",
   "execution_count": null,
   "metadata": {
    "collapsed": true
   },
   "outputs": [],
   "source": []
  },
  {
   "cell_type": "code",
   "execution_count": null,
   "metadata": {
    "collapsed": true
   },
   "outputs": [],
   "source": []
  },
  {
   "cell_type": "code",
   "execution_count": null,
   "metadata": {
    "collapsed": true
   },
   "outputs": [],
   "source": []
  }
 ],
 "metadata": {
  "kernelspec": {
   "display_name": "Python 3",
   "language": "python",
   "name": "python3"
  },
  "language_info": {
   "codemirror_mode": {
    "name": "ipython",
    "version": 3
   },
   "file_extension": ".py",
   "mimetype": "text/x-python",
   "name": "python",
   "nbconvert_exporter": "python",
   "pygments_lexer": "ipython3",
   "version": "3.4.5"
  },
  "toc": {
   "colors": {
    "hover_highlight": "#DAA520",
    "navigate_num": "#000000",
    "navigate_text": "#333333",
    "running_highlight": "#FF0000",
    "selected_highlight": "#FFD700",
    "sidebar_border": "#EEEEEE",
    "wrapper_background": "#FFFFFF"
   },
   "moveMenuLeft": true,
   "nav_menu": {
    "height": "30px",
    "width": "252px"
   },
   "navigate_menu": true,
   "number_sections": true,
   "sideBar": true,
   "threshold": 4,
   "toc_cell": false,
   "toc_section_display": "block",
   "toc_window_display": false,
   "widenNotebook": false
  }
 },
 "nbformat": 4,
 "nbformat_minor": 2
}
